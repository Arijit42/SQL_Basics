{
  "nbformat": 4,
  "nbformat_minor": 0,
  "metadata": {
    "colab": {
      "provenance": []
    },
    "kernelspec": {
      "name": "python3",
      "display_name": "Python 3"
    },
    "language_info": {
      "name": "python"
    }
  },
  "cells": [
    {
      "cell_type": "code",
      "execution_count": null,
      "metadata": {
        "id": "x7M4NEpuRxZX"
      },
      "outputs": [],
      "source": [
        "-- 1. Create a table called employees with the following structure--\n",
        "-- Write the SQL query to create the above table with all constraints.\n",
        "-- emp_id (integer, should not be NULL and should be a primary key)\n",
        "--  emp_name (text, should not be NULL)\n",
        "--  age (integer, should have a check constraint to ensure the age is at least 18)\n",
        "--  email (text, should be unique for each employee)\n",
        "--  salary (decimal, with a default value of 30,000).\n",
        "create database Employee;\n",
        "use Employee;\n",
        "create table employee\n",
        "(emp_id int PRIMARY KEY,\n",
        "emp_name varchar(20) not null,\n",
        "age int check (age>=18),\n",
        "email varchar(20) unique,\n",
        "salary int default(30000));"
      ]
    },
    {
      "cell_type": "markdown",
      "source": [
        "# 2.Explain the purpose of constraints and how they help maintain data integrity in a database. Provide\n",
        "# examples of common types of constraints. **bold text**\n",
        "\n",
        "Ans: Constraints enforce rules on data in a database to ensure accuracy, consistency, and integrity.\n",
        "\n",
        "Constraints are below:\n",
        "1) PRIMARY KEY - Uniquely identifies each row - id INT PRIMARY KEY\n",
        "2) Unique - Ensures all values are different - email VARCHAR(100) UNIQUE\n",
        "3) NOT NULL - Disallows NULL values - name VARCHAR(50) NOT NULL\n",
        "4) FOREIGN KEY - Links to primary key in another table - FOREIGN KEY (dept_id) REFERENCES department(id)\n",
        "5) CHECK - Restricts values based on a condition - age INT CHECK (age >= 18)\n",
        "6) DEFAULT - Sets a default value for a column - status VARCHAR(10) DEFAULT 'active'\n"
      ],
      "metadata": {
        "id": "KjPMq-XOdrK4"
      }
    },
    {
      "cell_type": "code",
      "source": [
        "3. Why would you apply the NOT NULL constraint to a column? Can a primary key contain NULL values? Justify\n",
        "your answer.\n",
        "\n",
        "Ans: You apply the NOT NULL constraint to ensure a column always has a value — preventing incomplete or missing data.\n",
        "A PRIMARY KEY cannot contain NULL values, because it must uniquely identify each row, and NULL means \"unknown\", which breaks uniqueness and identity.\n"
      ],
      "metadata": {
        "id": "122fs3NHgsL6"
      },
      "execution_count": null,
      "outputs": []
    },
    {
      "cell_type": "markdown",
      "source": [
        "# 4.Explain the steps and SQL commands used to add or remove constraints on an existing table. Provide an\n",
        "# example for both adding and removing a constraint.\n",
        "\n",
        "Ans: ALTER TABLE table_name ADD CONSTRAINT constraint_name constraint_type (column_name);\n",
        "ALTER TABLE employees ADD CONSTRAINT emp_email_unique UNIQUE (email);\n"
      ],
      "metadata": {
        "id": "dOYjPxX9g7Ni"
      }
    },
    {
      "cell_type": "markdown",
      "source": [
        "# 5.Explain the consequences of attempting to insert, update, or delete data in a way that violates constraints. Provide an example of an error message that might occur when violating a constraint\n",
        "Ans:\n",
        "Violating constraints blocks the operation and shows an error. Examples:\n",
        "\n",
        "1) Insert duplicate in PRIMARY KEY ---ERROR 1062: Duplicate entry '101' for key 'PRIMARY'\n",
        "2) Insert NULL in NOT NULL column ------ERROR 1048: Column 'name' cannot be null\n",
        "3) Foreign key mismatch on delete ------Error: Cannot delete or update a parent row: a foreign key constraint fails"
      ],
      "metadata": {
        "id": "Q56lqe35g7Z5"
      }
    },
    {
      "cell_type": "code",
      "source": [
        "6.You created a products table without constraints as follows:\n",
        " CREATE TABLE products (\n",
        " product_id INT,\n",
        " product_name VARCHAR(50),\n",
        " price DECIMAL(10, 2));\n",
        " Now, you realise that\n",
        " The product_id should be a primary key\n",
        " The price should have a default value of 50.00\n",
        "\n",
        "Answer:\n",
        "1) Add PRIMARY KEY to product_id:\n",
        "ALTER TABLE products\n",
        "ADD CONSTRAINT pk_product_id PRIMARY KEY (product_id);\n",
        "\n",
        "2) Add DEFAULT value to price:\n",
        "ALTER TABLE products\n",
        "ALTER COLUMN price SET DEFAULT 50.00;\n"
      ],
      "metadata": {
        "id": "dOROAvYvhwxJ"
      },
      "execution_count": null,
      "outputs": []
    },
    {
      "cell_type": "markdown",
      "source": [
        "# 7.You have two tables: 1st table :  Students_ID[1,2,3], Students_Name[Alice, Bob, Charlie], Class_Id [101,102,101] 2nd table: class_id [101,102,103],class name [math, science, history],-------------Write a query to fetch the student_name and class_name for each student using an INNER JOIN\n",
        "\n",
        "Answer: SELECT\n",
        "s.Students_Name,\n",
        "c.class_name\n",
        "FROM\n",
        "students s\n",
        "INNER JOIN\n",
        "classes c\n",
        "ON\n",
        "s.Class_Id = c.class_id;\n"
      ],
      "metadata": {
        "id": "9GjRymarlf6x"
      }
    },
    {
      "cell_type": "markdown",
      "source": [
        "# 8.*Consider* the following three tables\n",
        "\n",
        "\n",
        "Answer: SELECT\n",
        "  p.order_id,\n",
        "  c.customer_name,\n",
        "  p.product_name\n",
        "FROM\n",
        "  products p\n",
        "LEFT JOIN orders o ON p.order_id = o.order_id\n",
        "LEFT JOIN customers c ON o.customer_id = c.customer_id;\n"
      ],
      "metadata": {
        "id": "kp4EnqEElkLZ"
      }
    },
    {
      "cell_type": "markdown",
      "source": [
        "# 9.Given the following tables:\n",
        "\n",
        "Answer:\n",
        "SELECT\n",
        "p.product_name,\n",
        "SUM(s.amount) AS total_sales\n",
        "FROM\n",
        "sales s\n",
        "INNER JOIN\n",
        "products p ON s.product_id = p.product_id\n",
        "GROUP BY\n",
        "p.product_name;\n"
      ],
      "metadata": {
        "id": "no5-9abHl4gp"
      }
    },
    {
      "cell_type": "markdown",
      "source": [
        "# *10.You are given three tables:*\n",
        "\n",
        "Answer:\n",
        "\n",
        "SELECT\n",
        "  o.order_id,\n",
        "  c.customer_name,\n",
        "  od.quantity\n",
        "FROM\n",
        "  Orders o\n",
        "INNER JOIN\n",
        "  Customers c ON o.customer_id = c.customer_id\n",
        "INNER JOIN\n",
        "  Order_Details od ON o.order_id = od.order_id;\n"
      ],
      "metadata": {
        "id": "whD6oJF8mFph"
      }
    }
  ]
}